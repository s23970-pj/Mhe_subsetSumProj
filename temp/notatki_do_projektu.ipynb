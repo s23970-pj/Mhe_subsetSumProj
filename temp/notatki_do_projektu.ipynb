{
 "cells": [
  {
   "cell_type": "code",
   "execution_count": null,
   "id": "initial_id",
   "metadata": {
    "collapsed": true
   },
   "outputs": [],
   "source": "### Subset Sum algorytm wspinaczkowy"
  },
  {
   "metadata": {},
   "cell_type": "markdown",
   "source": [
    "\n",
    "    Algorytm wspinaczkowy (Hill-Climbing) dla problemu sumy podzbioru (Subset Sum Problem) implementuje dwie wersje:\n",
    "    1. Klasyczny algorytm wspinaczkowy z deterministycznym wyborem najlepszego sąsiada:\n",
    "       - Algorytm wybiera sąsiada, który ma najmniejszą resztę (residue).\n",
    "    2. Algorytm wspinaczkowy z losowym wyborem sąsiada:\n",
    "       - Algorytm wybiera losowego sąsiada i sprawdza, czy jego reszta jest mniejsza od bieżącej.\n",
    "    \n",
    "    Kroki algorytmu:\n",
    "    1. Algorytm przyjmuje cztery parametry: multizbiór S, docelową sumę k, oraz dwie liczby całkowite q i r.\n",
    "    2. Wykonaj q razy:\n",
    "       a. Wybierz losowy podzbiór S' z S jako \"bieżący\" podzbiór.\n",
    "       b. Wykonaj r razy (wspinaczka):\n",
    "          i. Znajdź sąsiada T bieżącego podzbioru.\n",
    "          ii. Jeśli sąsiad T ma mniejszą resztę, ustaw T jako bieżący podzbiór.\n",
    "       c. Śledź resztę końcowego bieżącego podzbioru, gdy zaczynasz od podzbioru S'.\n",
    "    3. Zwróć najmniejszą resztę spośród q przetestowanych podzbiorów.\n"
   ],
   "id": "f3fd4831bef9f311"
  }
 ],
 "metadata": {
  "kernelspec": {
   "display_name": "Python 3",
   "language": "python",
   "name": "python3"
  },
  "language_info": {
   "codemirror_mode": {
    "name": "ipython",
    "version": 2
   },
   "file_extension": ".py",
   "mimetype": "text/x-python",
   "name": "python",
   "nbconvert_exporter": "python",
   "pygments_lexer": "ipython2",
   "version": "2.7.6"
  }
 },
 "nbformat": 4,
 "nbformat_minor": 5
}
