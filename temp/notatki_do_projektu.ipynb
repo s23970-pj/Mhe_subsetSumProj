{
 "cells": [
  {
   "metadata": {},
   "cell_type": "markdown",
   "source": "## Subset SUM - Algorytm wspinaczkowy",
   "id": "bc7659f30cb6760a"
  },
  {
   "metadata": {},
   "cell_type": "markdown",
   "source": [
    "Algorytm wspinaczkowy (Hill-Climbing) dla problemu sumy podzbioru (Subset Sum Problem) implementuje dwie wersje:\n",
    "1. Klasyczny algorytm wspinaczkowy z deterministycznym wyborem najlepszego sąsiada:\n",
    "   - Algorytm wybiera sąsiada, który ma najmniejszą resztę (residue).\n",
    "2. Algorytm wspinaczkowy z losowym wyborem sąsiada:\n",
    "   - Algorytm wybiera losowego sąsiada i sprawdza, czy jego reszta jest mniejsza od bieżącej.\n",
    "\n",
    "Kroki algorytmu:\n",
    "1. Algorytm przyjmuje cztery parametry: multizbiór S, docelową sumę k, oraz dwie liczby całkowite q i r.\n",
    "2. Wykonaj q razy:\n",
    "   a. Wybierz losowy podzbiór S' z S jako \"bieżący\" podzbiór.\n",
    "   b. Wykonaj r razy (wspinaczka):\n",
    "      i. Znajdź sąsiada T bieżącego podzbioru.\n",
    "      ii. Jeśli sąsiad T ma mniejszą resztę, ustaw T jako bieżący podzbiór.\n",
    "   c. Śledź resztę końcowego bieżącego podzbioru, gdy zaczynasz od podzbioru S'.\n",
    "3. Zwróć najmniejszą resztę spośród q przetestowanych podzbiorów.\n"
   ],
   "id": "f3fd4831bef9f311"
  },
  {
   "metadata": {},
   "cell_type": "markdown",
   "source": "## TABU",
   "id": "b5fdfa7c08aa1487"
  },
  {
   "metadata": {},
   "cell_type": "markdown",
   "source": "",
   "id": "2af86717e32a5bba"
  },
  {
   "metadata": {},
   "cell_type": "markdown",
   "source": [
    "Podstawową ideą algorytmu jest przeszukiwanie przestrzeni, stworzonej ze wszystkich możliwych rozwiązań,<br>\n",
    " za pomocą sekwencji ruchów. W sekwencji ruchów istnieją ruchy niedozwolone, ruchy tabu.<br>\n",
    "  Algorytm unika oscylacji wokół optimum lokalnego dzięki przechowywaniu informacji o sprawdzonych już rozwiązaniach w postaci listy tabu (TL)"
   ],
   "id": "9c59608225e43108"
  },
  {
   "metadata": {},
   "cell_type": "markdown",
   "source": "",
   "id": "cf7f2d1cda813d64"
  },
  {
   "metadata": {},
   "cell_type": "markdown",
   "source": "",
   "id": "3f3ea699b5f022a"
  },
  {
   "metadata": {},
   "cell_type": "markdown",
   "source": "genetyczne reprezentacja 1 bierzemy 0 niebierzemy ",
   "id": "ea424a85c64e9930"
  },
  {
   "metadata": {},
   "cell_type": "markdown",
   "source": "## TESTY GENERATE NEIGHBORS OPERUJĄCEGO NA FLIPIE BINARNYM",
   "id": "7a1daa34313c3b9"
  },
  {
   "metadata": {},
   "cell_type": "code",
   "outputs": [],
   "execution_count": null,
   "source": [
    "def generate_neighbors(current_solution):\n",
    "    neighbors = []\n",
    "    for i in range(len(current_solution)):\n",
    "        # Flip one bit\n",
    "        neighbor = current_solution[:]\n",
    "        neighbor[i] = 1 - neighbor[i]\n",
    "        neighbors.append(neighbor)\n",
    "\n",
    "        # Optionally, flip two bits for additional neighbors\n",
    "        for j in range(i + 1, len(current_solution)):\n",
    "            neighbor2 = neighbor[:]\n",
    "            neighbor2[j] = 1 - neighbor2[j]\n",
    "            neighbors.append(neighbor2)\n",
    "\n",
    "    return neighbors"
   ],
   "id": "8a606ad8f790bc50"
  },
  {
   "metadata": {
    "ExecuteTime": {
     "end_time": "2024-06-23T18:18:03.563442Z",
     "start_time": "2024-06-23T18:18:03.530570Z"
    }
   },
   "cell_type": "code",
   "source": [
    "import random\n",
    "import pandas as pd\n",
    "import os\n",
    "\n",
    "\n",
    "def test_generate_neighbors():\n",
    "    # Example current solution\n",
    "    file_path = 'test_input.txt'  # Zastąp ścieżką do swojego pliku\n",
    "\n",
    "    # Check if file exists\n",
    "    if not os.path.exists(file_path):\n",
    "        print(f\"File not found: {file_path}\")\n",
    "        return\n",
    "\n",
    "    elements = pd.read_csv(file_path, header=None).iloc[:, 0].tolist()\n",
    "    \n",
    "    current_solution = generate_random_solution(elements)\n",
    "    print(\"Current Solution:\", current_solution)\n",
    "\n",
    "    # Generate neighbors\n",
    "    neighbors = generate_neighbors(current_solution, elements)\n",
    "\n",
    "    # Print neighbors\n",
    "    print(\"Generated Neighbors:\")\n",
    "    for neighbor in neighbors:\n",
    "        print(neighbor)\n",
    "\n",
    "if __name__ == \"__main__\":\n",
    "    test_generate_neighbors()\n"
   ],
   "id": "fdfa8c550360a77b",
   "outputs": [
    {
     "name": "stdout",
     "output_type": "stream",
     "text": [
      "Current Solution: ['8 18 24 60 9 7 15 47 52 2 39 20 59 20 56 52 37 50 22 41 55 38 41 56 8 9 14 49 42 40 24 22 57 17 3 49 10 7 42 46 49 38 2 38 5 47 12 7 6 42 21 16 8 33 7 30 37 26 34 6 6 38 22 25 28 58 45 20 26 56 40 27 2 8 16 25 53 5 21 11 8 8 9 10 26 16 7 41 13 25 10 59 25 44 18 56 16 47 6 32']\n"
     ]
    },
    {
     "ename": "TypeError",
     "evalue": "generate_neighbors() takes 1 positional argument but 2 were given",
     "output_type": "error",
     "traceback": [
      "\u001B[1;31m---------------------------------------------------------------------------\u001B[0m",
      "\u001B[1;31mTypeError\u001B[0m                                 Traceback (most recent call last)",
      "Cell \u001B[1;32mIn[19], line 48\u001B[0m\n\u001B[0;32m     45\u001B[0m         \u001B[38;5;28mprint\u001B[39m(neighbor)\n\u001B[0;32m     47\u001B[0m \u001B[38;5;28;01mif\u001B[39;00m \u001B[38;5;18m__name__\u001B[39m \u001B[38;5;241m==\u001B[39m \u001B[38;5;124m\"\u001B[39m\u001B[38;5;124m__main__\u001B[39m\u001B[38;5;124m\"\u001B[39m:\n\u001B[1;32m---> 48\u001B[0m     \u001B[43mtest_generate_neighbors\u001B[49m\u001B[43m(\u001B[49m\u001B[43m)\u001B[49m\n",
      "Cell \u001B[1;32mIn[19], line 40\u001B[0m, in \u001B[0;36mtest_generate_neighbors\u001B[1;34m()\u001B[0m\n\u001B[0;32m     37\u001B[0m \u001B[38;5;28mprint\u001B[39m(\u001B[38;5;124m\"\u001B[39m\u001B[38;5;124mCurrent Solution:\u001B[39m\u001B[38;5;124m\"\u001B[39m, current_solution)\n\u001B[0;32m     39\u001B[0m \u001B[38;5;66;03m# Generate neighbors\u001B[39;00m\n\u001B[1;32m---> 40\u001B[0m neighbors \u001B[38;5;241m=\u001B[39m \u001B[43mgenerate_neighbors\u001B[49m\u001B[43m(\u001B[49m\u001B[43mcurrent_solution\u001B[49m\u001B[43m,\u001B[49m\u001B[43m \u001B[49m\u001B[43melements\u001B[49m\u001B[43m)\u001B[49m\n\u001B[0;32m     42\u001B[0m \u001B[38;5;66;03m# Print neighbors\u001B[39;00m\n\u001B[0;32m     43\u001B[0m \u001B[38;5;28mprint\u001B[39m(\u001B[38;5;124m\"\u001B[39m\u001B[38;5;124mGenerated Neighbors:\u001B[39m\u001B[38;5;124m\"\u001B[39m)\n",
      "\u001B[1;31mTypeError\u001B[0m: generate_neighbors() takes 1 positional argument but 2 were given"
     ]
    }
   ],
   "execution_count": 19
  },
  {
   "metadata": {},
   "cell_type": "code",
   "outputs": [],
   "execution_count": null,
   "source": [
    "def residue(solution, elements, target):\n",
    "    subset_sum = sum([elements[i] for i in range(len(solution)) if solution[i] == 1])\n",
    "    return abs(subset_sum - target)"
   ],
   "id": "8c88399280b15c55"
  },
  {
   "metadata": {},
   "cell_type": "markdown",
   "source": "",
   "id": "4b82c45c912d0a5b"
  },
  {
   "metadata": {},
   "cell_type": "code",
   "outputs": [],
   "execution_count": null,
   "source": "[elements[i] for i in range(len(current_solution)) if current_solution[i] == 1]} # formułka na połączenie listy binranej z danymi",
   "id": "88b2c953e6fb06e3"
  },
  {
   "metadata": {},
   "cell_type": "markdown",
   "source": "",
   "id": "6d111d776fe25a44"
  },
  {
   "metadata": {},
   "cell_type": "markdown",
   "source": [
    "Wyjaśnienie funkcji tabu_search\n",
    "Funkcja tabu_search implementuje algorytm Tabu Search, który jest stosowany do rozwiązywania problemu sumy podzbioru (Subset Sum Problem). Algorytm ten iteracyjnie przeszukuje przestrzeń rozwiązań, unikając cykli za pomocą listy tabu. Celem algorytmu jest znalezienie podzbioru z listy elementów, którego suma jest najbliższa zadanej wartości docelowej (target).\n",
    "\n",
    "Wejścia funkcji\n",
    "elements: Lista liczb całkowitych, z której wybieramy podzbiory.\n",
    "target: Wartość docelowa, do której dążymy, aby suma podzbioru była jak najbliższa.\n",
    "r: Liczba iteracji, które algorytm ma wykonać.\n",
    "tabu_size: Maksymalny rozmiar listy tabu.\n",
    "time_limit: Limit czasu (w sekundach), po którym algorytm przestaje działać.\n",
    "Działanie funkcji\n",
    "Inicjalizacja:\n",
    "\n",
    "start_time = time.time(): Rejestruje czas rozpoczęcia algorytmu.\n",
    "list_length = len(elements): Pobiera długość listy elementów.\n",
    "current_solution = generate_random_solution(list_length): Generuje losowe początkowe rozwiązanie jako lista binarna (np. [1, 0, 1, 0]).\n",
    "best_solution = current_solution: Ustawia bieżące rozwiązanie jako najlepsze początkowe rozwiązanie.\n",
    "best_residue = residue(current_solution, elements, target): Oblicza początkową resztę (różnicę między sumą podzbioru a wartością docelową).\n",
    "tabu_list = []: Inicjalizuje pustą listę tabu.\n",
    "Pętla iteracyjna:\n",
    "\n",
    "for iteration in range(r): Pętla wykonuje się r razy (lub mniej, jeśli osiągnięto limit czasu).\n",
    "if time.time() - start_time > time_limit: Sprawdza, czy limit czasu został przekroczony. Jeśli tak, pętla przerywa działanie.\n",
    "Generowanie sąsiadów:\n",
    "\n",
    "neighbors = generate_neighbors(current_solution): Generuje sąsiadów bieżącego rozwiązania przez flipowanie jednego lub dwóch bitów.\n",
    "feasible_neighbors = [n for n in neighbors if n not in tabu_list]: Filtruje sąsiadów, usuwając te, które są na liście tabu.\n",
    "Sprawdzenie dostępnych sąsiadów:\n",
    "\n",
    "if not feasible_neighbors: Jeśli nie ma dostępnych sąsiadów (wszyscy są na liście tabu), pętla przerywa działanie.\n",
    "Wybór najlepszego sąsiada:\n",
    "\n",
    "best_neighbor = min(feasible_neighbors, key=lambda s: residue(s, elements, target)): Wybiera sąsiada z najmniejszą resztą.\n",
    "best_neighbor_residue = residue(best_neighbor, elements, target): Oblicza resztę najlepszego sąsiada.\n",
    "Aktualizacja najlepszego rozwiązania:\n",
    "\n",
    "if best_neighbor_residue < best_residue: Jeśli reszta najlepszego sąsiada jest mniejsza niż bieżąca najlepsza reszta:\n",
    "best_solution = best_neighbor: Aktualizuje najlepsze rozwiązanie.\n",
    "best_residue = best_neighbor_residue: Aktualizuje najlepszą resztę.\n",
    "Aktualizacja listy tabu:\n",
    "\n",
    "tabu_list.append(current_solution): Dodaje bieżące rozwiązanie do listy tabu.\n",
    "if len(tabu_list) > tabu_size: Jeśli lista tabu przekroczyła maksymalny rozmiar:\n",
    "tabu_list.pop(0): Usuwa najstarsze rozwiązanie z listy tabu.\n",
    "Aktualizacja bieżącego rozwiązania:\n",
    "\n",
    "current_solution = best_neighbor: Ustawia najlepszego sąsiada jako nowe bieżące rozwiązanie.\n",
    "Zwracanie wyniku:\n",
    "\n",
    "return best_solution, best_residue: Zwraca najlepsze znalezione rozwiązanie i jego resztę.\n",
    "Przykład użycia\n",
    "Rozważmy następujący scenariusz:\n",
    "\n",
    "elements = [23, 54, 18, 5]\n",
    "target = 77\n",
    "r = 100 (liczba iteracji)\n",
    "tabu_size = 5 (maksymalny rozmiar listy tabu)\n",
    "time_limit = 10 (limit czasu w sekundach)\n",
    "Wyjaśnienie poszczególnych elementów\n",
    "Inicjalizacja:\n",
    "\n",
    "Generujemy losowe początkowe rozwiązanie, np. [1, 0, 1, 0], co oznacza podzbiór [23, 18].\n",
    "Obliczamy początkową resztę: residue([1, 0, 1, 0], [23, 54, 18, 5], 77) = abs(23 + 18 - 77) = 36.\n",
    "Pętla iteracyjna:\n",
    "\n",
    "Przez r iteracji lub do osiągnięcia limitu czasu generujemy sąsiadów, filtrujemy listę tabu i wybieramy najlepszego sąsiada.\n",
    "Aktualizacja listy tabu:\n",
    "\n",
    "Dodajemy bieżące rozwiązanie do listy tabu i usuwamy najstarsze rozwiązania, aby lista nie przekroczyła tabu_size.\n",
    "Wybór najlepszego sąsiada:\n",
    "\n",
    "W każdej iteracji wybieramy najlepszego sąsiada spośród tych, którzy nie są na liście tabu, i aktualizujemy bieżące rozwiązanie.\n",
    "Zakończenie\n",
    "Algorytm kończy działanie, zwracając najlepsze znalezione rozwiązanie oraz jego resztę. Jeśli osiągnie limit czasu, przerywa pętlę iteracyjną i zwraca najlepsze rozwiązanie znalezione do tego momentu."
   ],
   "id": "57779cfd9b4355f0"
  }
 ],
 "metadata": {
  "kernelspec": {
   "display_name": "Python 3",
   "language": "python",
   "name": "python3"
  },
  "language_info": {
   "codemirror_mode": {
    "name": "ipython",
    "version": 2
   },
   "file_extension": ".py",
   "mimetype": "text/x-python",
   "name": "python",
   "nbconvert_exporter": "python",
   "pygments_lexer": "ipython2",
   "version": "2.7.6"
  }
 },
 "nbformat": 4,
 "nbformat_minor": 5
}
