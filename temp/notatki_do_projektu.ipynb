{
 "cells": [
  {
   "metadata": {},
   "cell_type": "markdown",
   "source": "## Subset SUM - Algorytm wspinaczkowy",
   "id": "bc7659f30cb6760a"
  },
  {
   "metadata": {},
   "cell_type": "markdown",
   "source": [
    "Algorytm wspinaczkowy (Hill-Climbing) dla problemu sumy podzbioru (Subset Sum Problem) implementuje dwie wersje:\n",
    "1. Klasyczny algorytm wspinaczkowy z deterministycznym wyborem najlepszego sąsiada:\n",
    "   - Algorytm wybiera sąsiada, który ma najmniejszą resztę (residue).\n",
    "2. Algorytm wspinaczkowy z losowym wyborem sąsiada:\n",
    "   - Algorytm wybiera losowego sąsiada i sprawdza, czy jego reszta jest mniejsza od bieżącej.\n",
    "\n",
    "Kroki algorytmu:\n",
    "1. Algorytm przyjmuje cztery parametry: multizbiór S, docelową sumę k, oraz dwie liczby całkowite q i r.\n",
    "2. Wykonaj q razy:\n",
    "   a. Wybierz losowy podzbiór S' z S jako \"bieżący\" podzbiór.\n",
    "   b. Wykonaj r razy (wspinaczka):\n",
    "      i. Znajdź sąsiada T bieżącego podzbioru.\n",
    "      ii. Jeśli sąsiad T ma mniejszą resztę, ustaw T jako bieżący podzbiór.\n",
    "   c. Śledź resztę końcowego bieżącego podzbioru, gdy zaczynasz od podzbioru S'.\n",
    "3. Zwróć najmniejszą resztę spośród q przetestowanych podzbiorów.\n"
   ],
   "id": "f3fd4831bef9f311"
  },
  {
   "metadata": {},
   "cell_type": "markdown",
   "source": "## TABU",
   "id": "b5fdfa7c08aa1487"
  },
  {
   "metadata": {},
   "cell_type": "markdown",
   "source": "",
   "id": "2af86717e32a5bba"
  },
  {
   "metadata": {},
   "cell_type": "markdown",
   "source": [
    "Podstawową ideą algorytmu jest przeszukiwanie przestrzeni, stworzonej ze wszystkich możliwych rozwiązań,<br>\n",
    " za pomocą sekwencji ruchów. W sekwencji ruchów istnieją ruchy niedozwolone, ruchy tabu.<br>\n",
    "  Algorytm unika oscylacji wokół optimum lokalnego dzięki przechowywaniu informacji o sprawdzonych już rozwiązaniach w postaci listy tabu (TL)"
   ],
   "id": "9c59608225e43108"
  },
  {
   "metadata": {},
   "cell_type": "markdown",
   "source": "",
   "id": "cf7f2d1cda813d64"
  },
  {
   "metadata": {},
   "cell_type": "markdown",
   "source": "",
   "id": "3f3ea699b5f022a"
  },
  {
   "metadata": {},
   "cell_type": "markdown",
   "source": "",
   "id": "ea424a85c64e9930"
  }
 ],
 "metadata": {
  "kernelspec": {
   "display_name": "Python 3",
   "language": "python",
   "name": "python3"
  },
  "language_info": {
   "codemirror_mode": {
    "name": "ipython",
    "version": 2
   },
   "file_extension": ".py",
   "mimetype": "text/x-python",
   "name": "python",
   "nbconvert_exporter": "python",
   "pygments_lexer": "ipython2",
   "version": "2.7.6"
  }
 },
 "nbformat": 4,
 "nbformat_minor": 5
}
